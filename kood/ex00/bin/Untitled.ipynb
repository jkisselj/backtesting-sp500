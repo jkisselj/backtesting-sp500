{
 "cells": [
  {
   "cell_type": "code",
   "execution_count": null,
   "id": "a1e213cd-b071-4ab5-9803-d3bef96a7ab2",
   "metadata": {},
   "outputs": [],
   "source": [
    "# H1 TITLE\n",
    "## H2 TITLE"
   ]
  },
  {
   "cell_type": "code",
   "execution_count": 1,
   "id": "6a63ea67-6b71-4708-aee3-59d76cfef9ed",
   "metadata": {},
   "outputs": [
    {
     "name": "stdout",
     "output_type": "stream",
     "text": [
      "Buy the dip ?\n"
     ]
    }
   ],
   "source": [
    "print(\"Buy the dip ?\")"
   ]
  },
  {
   "cell_type": "code",
   "execution_count": 10,
   "id": "6e9a6595-07b1-4a0a-8950-2564d02ff5e5",
   "metadata": {},
   "outputs": [],
   "source": [
    "import numpy as np\n",
    "\n",
    "my_int = 21\n",
    "my_float = 1.21\n",
    "my_string = \"Hello\"\n",
    "my_dict = {\"key\": \"value\"}\n",
    "my_list = [1, 2, 3]\n",
    "my_tuple = (4, 5, 6)\n",
    "my_set = {7, 8, 9}\n",
    "my_bool = True\n",
    "\n",
    "your_np_array = np.array([\n",
    "    my_int,\n",
    "    my_float,\n",
    "    my_string,\n",
    "    my_dict,\n",
    "    my_list,\n",
    "    my_tuple,\n",
    "    my_set,\n",
    "    my_bool\n",
    "], dtype = object)"
   ]
  },
  {
   "cell_type": "code",
   "execution_count": 11,
   "id": "33aa14ec-9c58-43d4-b2ad-bfee44a48b87",
   "metadata": {},
   "outputs": [
    {
     "name": "stdout",
     "output_type": "stream",
     "text": [
      "<class 'int'>\n",
      "<class 'float'>\n",
      "<class 'str'>\n",
      "<class 'dict'>\n",
      "<class 'list'>\n",
      "<class 'tuple'>\n",
      "<class 'set'>\n",
      "<class 'bool'>\n"
     ]
    }
   ],
   "source": [
    "for i in your_np_array:\n",
    "    print(type(i))"
   ]
  },
  {
   "cell_type": "code",
   "execution_count": 12,
   "id": "ab9a7458-39ea-4581-9ae8-14e0a1eb3ea4",
   "metadata": {},
   "outputs": [
    {
     "name": "stdout",
     "output_type": "stream",
     "text": [
      "[[0. 0. 0. 0. 0. 0. 0. 0. 0. 0. 0. 0. 0. 0. 0. 0. 0. 0. 0. 0. 0. 0. 0. 0.\n",
      "  0. 0. 0. 0. 0. 0. 0. 0. 0. 0. 0. 0. 0. 0. 0. 0. 0. 0. 0. 0. 0. 0. 0. 0.\n",
      "  0. 0. 0. 0. 0. 0. 0. 0. 0. 0. 0. 0. 0. 0. 0. 0. 0. 0. 0. 0. 0. 0. 0. 0.\n",
      "  0. 0. 0. 0. 0. 0. 0. 0. 0. 0. 0. 0. 0. 0. 0. 0. 0. 0. 0. 0. 0. 0. 0. 0.\n",
      "  0. 0. 0. 0.]\n",
      " [0. 0. 0. 0. 0. 0. 0. 0. 0. 0. 0. 0. 0. 0. 0. 0. 0. 0. 0. 0. 0. 0. 0. 0.\n",
      "  0. 0. 0. 0. 0. 0. 0. 0. 0. 0. 0. 0. 0. 0. 0. 0. 0. 0. 0. 0. 0. 0. 0. 0.\n",
      "  0. 0. 0. 0. 0. 0. 0. 0. 0. 0. 0. 0. 0. 0. 0. 0. 0. 0. 0. 0. 0. 0. 0. 0.\n",
      "  0. 0. 0. 0. 0. 0. 0. 0. 0. 0. 0. 0. 0. 0. 0. 0. 0. 0. 0. 0. 0. 0. 0. 0.\n",
      "  0. 0. 0. 0.]\n",
      " [0. 0. 0. 0. 0. 0. 0. 0. 0. 0. 0. 0. 0. 0. 0. 0. 0. 0. 0. 0. 0. 0. 0. 0.\n",
      "  0. 0. 0. 0. 0. 0. 0. 0. 0. 0. 0. 0. 0. 0. 0. 0. 0. 0. 0. 0. 0. 0. 0. 0.\n",
      "  0. 0. 0. 0. 0. 0. 0. 0. 0. 0. 0. 0. 0. 0. 0. 0. 0. 0. 0. 0. 0. 0. 0. 0.\n",
      "  0. 0. 0. 0. 0. 0. 0. 0. 0. 0. 0. 0. 0. 0. 0. 0. 0. 0. 0. 0. 0. 0. 0. 0.\n",
      "  0. 0. 0. 0.]]\n",
      "Shape of reshaped array: (3, 100)\n"
     ]
    }
   ],
   "source": [
    "zero_array = np.zeros(300)\n",
    "reshaped_array = zero_array.reshape(3, 100)\n",
    "print(reshaped_array)\n",
    "print(\"Shape of reshaped array:\", reshaped_array.shape)\n"
   ]
  },
  {
   "cell_type": "code",
   "execution_count": 14,
   "id": "d9f11beb-4227-4dd1-8677-9476bb44eba8",
   "metadata": {},
   "outputs": [
    {
     "name": "stdout",
     "output_type": "stream",
     "text": [
      "[  1   2   3   4   5   6   7   8   9  10  11  12  13  14  15  16  17  18\n",
      "  19  20  21  22  23  24  25  26  27  28  29  30  31  32  33  34  35  36\n",
      "  37  38  39  40  41  42  43  44  45  46  47  48  49  50  51  52  53  54\n",
      "  55  56  57  58  59  60  61  62  63  64  65  66  67  68  69  70  71  72\n",
      "  73  74  75  76  77  78  79  80  81  82  83  84  85  86  87  88  89  90\n",
      "  91  92  93  94  95  96  97  98  99 100]\n",
      "[ 1  3  5  7  9 11 13 15 17 19 21 23 25 27 29 31 33 35 37 39 41 43 45 47\n",
      " 49 51 53 55 57 59 61 63 65 67 69 71 73 75 77 79 81 83 85 87 89 91 93 95\n",
      " 97 99]\n",
      "[100  98  96  94  92  90  88  86  84  82  80  78  76  74  72  70  68  66\n",
      "  64  62  60  58  56  54  52  50  48  46  44  42  40  38  36  34  32  30\n",
      "  28  26  24  22  20  18  16  14  12  10   8   6   4   2]\n",
      "[  1   0   3   4   0   6   7   0   9  10   0  12  13   0  15  16   0  18\n",
      "  19   0  21  22   0  24  25   0  27  28   0  30  31   0  33  34   0  36\n",
      "  37   0  39  40   0  42  43   0  45  46   0  48  49   0  51  52   0  54\n",
      "  55   0  57  58   0  60  61   0  63  64   0  66  67   0  69  70   0  72\n",
      "  73   0  75  76   0  78  79   0  81  82   0  84  85   0  87  88   0  90\n",
      "  91   0  93  94   0  96  97   0  99 100]\n"
     ]
    }
   ],
   "source": [
    "array_q1 = np.arange(1, 101)\n",
    "print(array_q1)\n",
    "odd_numbers = array_q1[array_q1 % 2 != 0]\n",
    "print(odd_numbers)\n",
    "even_numbers_reversed = array_q1[array_q1 % 2 == 0][::-1]\n",
    "print(even_numbers_reversed)\n",
    "array_q1[1::3] = 0\n",
    "print(array_q1)\n",
    "\n"
   ]
  },
  {
   "cell_type": "code",
   "execution_count": 15,
   "id": "5f0c89fe-6159-49f6-8c02-32589f33feb8",
   "metadata": {},
   "outputs": [
    {
     "name": "stdout",
     "output_type": "stream",
     "text": [
      "1D Array with Normal Distribution:\n",
      " [-1.76200874e-01  1.88876361e-01  8.26747180e-01 -3.24473146e-02\n",
      " -6.52499418e-01 -1.05339382e-01  2.17776116e-01  5.87281504e-01\n",
      "  1.00237892e-01 -1.09994668e+00 -2.55305389e-01  4.05304381e-01\n",
      "  1.62663953e-01  1.04163462e+00  2.24324184e-01  6.99304449e-01\n",
      " -8.65543512e-01 -1.39346831e+00 -2.36687913e-01 -7.57041911e-01\n",
      "  1.31429195e+00 -9.77385899e-01 -3.59032576e-01  1.16141585e-01\n",
      " -3.51081138e-01 -4.39838344e-01 -4.90995473e-02 -4.31596770e-01\n",
      " -1.08875099e+00 -2.31088106e+00 -1.86236420e+00  2.34708674e-01\n",
      " -8.95585921e-01 -5.40834525e-01 -4.02399061e-01  2.31458561e-02\n",
      "  1.77688506e-01 -5.73309272e-01 -3.38392138e-01 -2.64422114e-03\n",
      "  1.44930339e+00  1.36605641e+00  2.69187461e+00  6.76065035e-01\n",
      " -1.06098418e+00  1.31845313e-01  1.71934297e-01  8.88062794e-02\n",
      "  1.03963016e+00 -1.37846942e-01 -3.69232844e-01  3.19587912e+00\n",
      "  1.11457451e+00 -2.59516296e-01  1.48370897e+00 -1.57049065e+00\n",
      "  9.78899330e-01  1.76070681e+00  3.53121953e-01 -3.08510762e-01\n",
      " -1.40481067e+00 -6.54547811e-01 -1.37791290e+00 -2.42605914e-01\n",
      " -1.17542916e+00  6.96400848e-01  2.84105779e-01 -1.01948195e+00\n",
      "  1.09675079e+00  2.41646711e-01 -3.67039678e-01 -2.19894776e+00\n",
      "  1.41872937e+00  2.20794136e-01  7.92524915e-01 -2.23775806e-01\n",
      " -6.96694068e-01 -9.17717925e-01 -1.47199487e+00  1.87770559e+00\n",
      "  1.51033108e+00  1.18732817e-01  6.50728248e-01 -7.07655562e-01\n",
      "  1.69862924e+00  1.34663117e+00  5.26657670e-01 -6.13561456e-01\n",
      " -1.79179012e-01 -1.28634991e+00  1.41675325e+00 -1.81351151e-01\n",
      " -1.02037575e-01 -6.03250569e-01  1.20489600e+00  9.62265746e-01\n",
      "  8.61170433e-01  1.96244237e+00 -1.15548773e+00  3.45259423e-01]\n",
      "\n",
      "2D Array (8x8) with Random Integers from 1 to 10:\n",
      " [[ 9  8  4  6  9  1  3  2]\n",
      " [ 3  9  9  5  4  7  2  8]\n",
      " [ 5  6  9  1  1  6  8  7]\n",
      " [ 7  1  4  1 10  4  3  5]\n",
      " [ 5 10  1 10  7 10  6  1]\n",
      " [ 6  8  7  4  6 10  3  5]\n",
      " [ 4 10  7  9  9 10  9  9]\n",
      " [ 5  3  2 10  8  5  5  3]]\n",
      "\n",
      "3D Array (4x2x5) with Random Integers from 1 to 17:\n",
      " [[[ 5  2 13 16 15]\n",
      "  [ 5  5  2 11  3]]\n",
      "\n",
      " [[ 8 13  6  4 17]\n",
      "  [ 2  8  1 13 10]]\n",
      "\n",
      " [[12 17 17 12  1]\n",
      "  [10  8 17  5 11]]\n",
      "\n",
      " [[ 9 14  2 15 13]\n",
      "  [12 14  6 14  2]]]\n"
     ]
    }
   ],
   "source": [
    "\n",
    "np.random.seed(888)\n",
    "normal_dist_array = np.random.normal(size=100)\n",
    "random_integers_2d = np.random.randint(1, 11, size=(8, 8))\n",
    "random_integers_3d = np.random.randint(1, 18, size=(4, 2, 5))\n",
    "\n",
    "print(\"1D Array with Normal Distribution:\\n\", normal_dist_array)\n",
    "print(\"\\n2D Array (8x8) with Random Integers from 1 to 10:\\n\", random_integers_2d)\n",
    "print(\"\\n3D Array (4x2x5) with Random Integers from 1 to 17:\\n\", random_integers_3d)\n"
   ]
  },
  {
   "cell_type": "code",
   "execution_count": 16,
   "id": "bda83c4c-7b04-469a-a1e5-0463e0eaf5aa",
   "metadata": {},
   "outputs": [
    {
     "name": "stdout",
     "output_type": "stream",
     "text": [
      "Array from 1 to 50:\n",
      " [ 1  2  3  4  5  6  7  8  9 10 11 12 13 14 15 16 17 18 19 20 21 22 23 24\n",
      " 25 26 27 28 29 30 31 32 33 34 35 36 37 38 39 40 41 42 43 44 45 46 47 48\n",
      " 49 50]\n",
      "\n",
      "Array from 51 to 100:\n",
      " [ 51  52  53  54  55  56  57  58  59  60  61  62  63  64  65  66  67  68\n",
      "  69  70  71  72  73  74  75  76  77  78  79  80  81  82  83  84  85  86\n",
      "  87  88  89  90  91  92  93  94  95  96  97  98  99 100]\n",
      "\n",
      "Concatenated Array:\n",
      " [  1   2   3   4   5   6   7   8   9  10  11  12  13  14  15  16  17  18\n",
      "  19  20  21  22  23  24  25  26  27  28  29  30  31  32  33  34  35  36\n",
      "  37  38  39  40  41  42  43  44  45  46  47  48  49  50  51  52  53  54\n",
      "  55  56  57  58  59  60  61  62  63  64  65  66  67  68  69  70  71  72\n",
      "  73  74  75  76  77  78  79  80  81  82  83  84  85  86  87  88  89  90\n",
      "  91  92  93  94  95  96  97  98  99 100]\n",
      "\n",
      "Reshaped Array (10x10):\n",
      " [[  1   2   3   4   5   6   7   8   9  10]\n",
      " [ 11  12  13  14  15  16  17  18  19  20]\n",
      " [ 21  22  23  24  25  26  27  28  29  30]\n",
      " [ 31  32  33  34  35  36  37  38  39  40]\n",
      " [ 41  42  43  44  45  46  47  48  49  50]\n",
      " [ 51  52  53  54  55  56  57  58  59  60]\n",
      " [ 61  62  63  64  65  66  67  68  69  70]\n",
      " [ 71  72  73  74  75  76  77  78  79  80]\n",
      " [ 81  82  83  84  85  86  87  88  89  90]\n",
      " [ 91  92  93  94  95  96  97  98  99 100]]\n"
     ]
    }
   ],
   "source": [
    "\n",
    "array_1_to_50 = np.arange(1, 51)\n",
    "array_51_to_100 = np.arange(51, 101)\n",
    "concatenated_array = np.concatenate((array_1_to_50, array_51_to_100))\n",
    "reshaped_array = concatenated_array.reshape(10, 10)\n",
    "\n",
    "print(\"Array from 1 to 50:\\n\", array_1_to_50)\n",
    "print(\"\\nArray from 51 to 100:\\n\", array_51_to_100)\n",
    "print(\"\\nConcatenated Array:\\n\", concatenated_array)\n",
    "print(\"\\nReshaped Array (10x10):\\n\", reshaped_array)\n"
   ]
  },
  {
   "cell_type": "code",
   "execution_count": 17,
   "id": "9ed35cf5-75f4-4d42-a26b-25a9a36dffeb",
   "metadata": {},
   "outputs": [
    {
     "name": "stdout",
     "output_type": "stream",
     "text": [
      "arrray 9x9:\n",
      "[[1 1 1 1 1 1 1 1 1]\n",
      " [1 0 0 0 0 0 0 0 1]\n",
      " [1 0 1 0 1 0 1 0 1]\n",
      " [1 0 0 1 0 1 0 0 1]\n",
      " [1 0 1 0 1 0 1 0 1]\n",
      " [1 0 0 1 0 1 0 0 1]\n",
      " [1 0 1 0 1 0 1 0 1]\n",
      " [1 0 0 0 0 0 0 0 1]\n",
      " [1 1 1 1 1 1 1 1 1]]\n",
      "\n",
      "multiplication table:\n",
      "[[ 1  2  3]\n",
      " [ 2  4  6]\n",
      " [ 3  6  9]\n",
      " [ 4  8 12]\n",
      " [ 5 10 15]]\n"
     ]
    }
   ],
   "source": [
    "array_9x9 = np.ones((9, 9), dtype=np.int8)\n",
    "array_9x9[1:8, 1:8] = 0\n",
    "array_9x9[2:7:2, 2:7:2] = 1\n",
    "array_9x9[3:6:2, 3:6:2] = 1\n",
    "array_1 = np.array([1, 2, 3, 4, 5], dtype=np.int8)\n",
    "array_2 = np.array([1, 2, 3], dtype=np.int8)\n",
    "print(\"arrray 9x9:\")\n",
    "print(array_9x9)\n",
    "array_1 = np.array([1, 2, 3, 4, 5], dtype=np.int8)\n",
    "array_2 = np.array([1, 2, 3], dtype=np.int8)\n",
    "\n",
    "multiplication_table = np.outer(array_1, array_2)\n",
    "print(\"\\nmultiplication table:\")\n",
    "print(multiplication_table)"
   ]
  },
  {
   "cell_type": "code",
   "execution_count": 18,
   "id": "0ab854a3-f7a8-45b2-87db-ec19bcdc9357",
   "metadata": {},
   "outputs": [
    {
     "name": "stdout",
     "output_type": "stream",
     "text": [
      "[[ 7.  1.  7.]\n",
      " [nan  2.  2.]\n",
      " [nan  8.  8.]\n",
      " [ 9.  3.  9.]\n",
      " [ 8.  9.  8.]\n",
      " [nan  2.  2.]\n",
      " [ 8.  2.  8.]\n",
      " [nan  6.  6.]\n",
      " [ 9.  2.  9.]\n",
      " [ 8.  5.  8.]]\n"
     ]
    }
   ],
   "source": [
    "generator = np.random.default_rng(123)\n",
    "grades = np.round(generator.uniform(low=0.0, high=10.0, size=(10, 2)))\n",
    "grades[[1, 2, 5, 7], [0, 0, 0, 0]] = np.nan\n",
    "\n",
    "third_column = np.where(~np.isnan(grades[:, 0]), grades[:, 0], grades[:, 1])\n",
    "grades = np.hstack((grades, third_column.reshape(-1, 1)))\n",
    "\n",
    "print(grades)\n"
   ]
  },
  {
   "cell_type": "code",
   "execution_count": 41,
   "id": "68bddae2-797f-487f-8267-002c6c2bef1d",
   "metadata": {
    "scrolled": true
   },
   "outputs": [
    {
     "name": "stdout",
     "output_type": "stream",
     "text": [
      "[[ 7.4    0.7    0.    ...  0.56   9.4    5.   ]\n",
      " [ 7.8    0.88   0.    ...  0.68   9.8    5.   ]\n",
      " [ 7.8    0.76   0.04  ...  0.65   9.8    5.   ]\n",
      " ...\n",
      " [ 6.3    0.51   0.13  ...  0.75  11.     6.   ]\n",
      " [ 5.9    0.645  0.12  ...  0.71  10.2    5.   ]\n",
      " [ 6.     0.31   0.47  ...  0.66  11.     6.   ]]\n",
      "size of array: 76752 bait\n",
      "[[7.800e+00 8.800e-01 0.000e+00 2.600e+00 9.800e-02 2.500e+01 6.700e+01\n",
      "  9.968e-01 3.200e+00 6.800e-01 9.800e+00 5.000e+00]\n",
      " [7.900e+00 6.000e-01 6.000e-02 1.600e+00 6.900e-02 1.500e+01 5.900e+01\n",
      "  9.964e-01 3.300e+00 4.600e-01 9.400e+00 5.000e+00]\n",
      " [7.500e+00 5.000e-01 3.600e-01 6.100e+00 7.100e-02 1.700e+01 1.020e+02\n",
      "  9.978e-01 3.350e+00 8.000e-01 1.050e+01 5.000e+00]]\n",
      "False\n",
      "10.422984\n",
      "{'min': np.float32(2.74), 'max': np.float32(4.01), '25th_percentile': np.float32(3.21), '50th_percentile': np.float32(3.31), '75th_percentile': np.float32(3.4), 'mean': np.float32(3.3111134)}\n",
      "5.1854305\n",
      "Average values for the best wines: [ 8.566666    0.4233333   0.39111114  2.5777776   0.06844445 13.277778\n",
      " 33.444443    0.99521226  3.2672222   0.76777774 12.094444    8.        ]\n",
      "Average values for the worst wines: [ 8.359999    0.8845      0.17099999  2.6350002   0.12249999 11.\n",
      " 24.9         0.997464    3.398       0.57000005  9.955       3.        ]\n"
     ]
    }
   ],
   "source": [
    "file_path = '/home/kooduser/winequality-red.txt'\n",
    "data = np.genfromtxt(file_path, delimiter=';', skip_header=1, dtype=np.float32)\n",
    "\n",
    "print(data[:,:]) \n",
    "print(f'size of array: {data.nbytes} bait') \n",
    "rows = data[[1, 6, 11], :]\n",
    "\n",
    "cleaned_rows = rows[~np.isnan(rows).any(axis=1)]\n",
    "print(cleaned_rows)\n",
    "\n",
    "alcohol_column = data[:, -2]\n",
    "has_high_alcohol = np.any(alcohol_column > 20)\n",
    "print(has_high_alcohol)  # True or False\n",
    "\n",
    "average_alcohol = np.nanmean(alcohol_column)\n",
    "print(average_alcohol)\n",
    "\n",
    "pH_column = data[:, -4]  \n",
    "pH_cleaned = pH_column[~np.isnan(pH_column)]\n",
    "\n",
    "pH_stats = {\n",
    "    'min': np.min(pH_cleaned),\n",
    "    'max': np.max(pH_cleaned),\n",
    "    '25th_percentile': np.percentile(pH_cleaned, 25),\n",
    "    '50th_percentile': np.percentile(pH_cleaned, 50),\n",
    "    '75th_percentile': np.percentile(pH_cleaned, 75),\n",
    "    'mean': np.mean(pH_cleaned),\n",
    "}\n",
    "print(pH_stats)\n",
    "\n",
    "sulphates_column = data[:, -3] \n",
    "\n",
    "percentile_20 = np.percentile(sulphates_column, 20)\n",
    "\n",
    "low_sulphates_mask = sulphates_column < percentile_20\n",
    "\n",
    "low_sulphates_quality = data[low_sulphates_mask, -1] \n",
    "average_quality = np.mean(low_sulphates_quality)\n",
    "print(average_quality)\n",
    "\n",
    "quality_column = data[:, -1]  \n",
    "\n",
    "max_quality = np.max(quality_column)\n",
    "min_quality = np.min(quality_column)\n",
    "\n",
    "best_quality_mask = quality_column == max_quality\n",
    "worst_quality_mask = quality_column == min_quality\n",
    "\n",
    "mean_best_quality = np.mean(data[best_quality_mask], axis=0)\n",
    "mean_worst_quality = np.mean(data[worst_quality_mask], axis=0)\n",
    "\n",
    "print('Average values for the best wines:', mean_best_quality)\n",
    "print('Average values for the worst wines:', mean_worst_quality)\n",
    "\n"
   ]
  },
  {
   "cell_type": "code",
   "execution_count": 44,
   "id": "27c20c5f-ca88-40c7-a665-d6d343c49bce",
   "metadata": {},
   "outputs": [
    {
     "name": "stdout",
     "output_type": "stream",
     "text": [
      "[['m1_t1' 'm2_t1' 'm3_t1' 'm4_t1' 'm5_t1']\n",
      " ['m1_t2' 'm2_t2' 'm3_t2' 'm4_t2' 'm5_t2']]\n"
     ]
    }
   ],
   "source": [
    "import numpy as np\n",
    "import itertools\n",
    "\n",
    "raw_data = \"\"\"0,-2.30,-4.59,-4.83,3.13,4.13,1.07,2.29,0.44,4.35\n",
    "2.30,0,3.57,-4.66,2.30,-3.24,3.63,0.41,-2.00,-0.77\n",
    "4.59,-3.57,0,1.47,1.15,-1.16,4.97,4.81,1.86,1.50\n",
    "4.83,4.66,-1.47,0,0.25,-1.90,-0.14,3.89,4.34,-1.42\n",
    "-3.13,-2.30,-1.15,-0.25,0,3.90,-2.73,1.23,-4.16,3.33\n",
    "-4.13,3.24,1.16,1.90,-3.90,0,-0.50,2.96,-2.69,-4.48\n",
    "-1.07,-3.63,-4.97,0.14,2.73,0.50,0,4.42,-1.35,-3.95\n",
    "-2.29,-0.41,-4.81,-3.89,-1.23,-2.96,-4.42,0,4.49,-0.40\n",
    "-0.44,2.00,-1.86,-4.34,4.16,2.69,1.35,-4.49,0,2.29\n",
    "-4.35,0.77,-1.50,1.42,-3.33,4.48,3.95,0.40,-2.29,0\"\"\"\n",
    "\n",
    "forecasts = np.array([line.split(',') for line in raw_data.split('\\n')], dtype=float)\n",
    "\n",
    "teams = list(range(10))\n",
    "possible_arrangements = list(itertools.permutations(teams, 10))\n",
    "\n",
    "min_score = float('inf')\n",
    "best_arrangement = None\n",
    "\n",
    "for arr in possible_arrangements:\n",
    "    pairs = [(arr[i], arr[i+1]) for i in range(0, 10, 2)]\n",
    "    score = sum(forecasts[t1, t2]**2 for t1, t2 in pairs)\n",
    "    \n",
    "    if score < min_score:\n",
    "        min_score = score\n",
    "        best_arrangement = arr\n",
    "\n",
    "# Convert numerical results to the required format\n",
    "result = np.array([\n",
    "    [f\"m{i+1}_t1\" for i in range(5)],\n",
    "    [f\"m{i+1}_t2\" for i in range(5)]\n",
    "])\n",
    "\n",
    "print(result)"
   ]
  },
  {
   "cell_type": "code",
   "execution_count": null,
   "id": "d6b6ef02-70cc-45f7-a710-f3545d93eff1",
   "metadata": {},
   "outputs": [],
   "source": []
  },
  {
   "cell_type": "code",
   "execution_count": null,
   "id": "79cf6fa7-7058-4b99-8350-1eb43140820c",
   "metadata": {},
   "outputs": [],
   "source": []
  }
 ],
 "metadata": {
  "kernelspec": {
   "display_name": "Python 3 (ipykernel)",
   "language": "python",
   "name": "python3"
  },
  "language_info": {
   "codemirror_mode": {
    "name": "ipython",
    "version": 3
   },
   "file_extension": ".py",
   "mimetype": "text/x-python",
   "name": "python",
   "nbconvert_exporter": "python",
   "pygments_lexer": "ipython3",
   "version": "3.10.12"
  }
 },
 "nbformat": 4,
 "nbformat_minor": 5
}
